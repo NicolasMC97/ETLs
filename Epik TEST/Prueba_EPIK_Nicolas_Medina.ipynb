{
  "cells": [
    {
      "cell_type": "markdown",
      "metadata": {
        "id": "5spPpxgujDRZ"
      },
      "source": [
        "# Importar librerias"
      ]
    },
    {
      "cell_type": "code",
      "execution_count": null,
      "metadata": {
        "id": "DyuPxhsbjDRc"
      },
      "outputs": [],
      "source": [
        "import pandas as pd\n",
        "import numpy as np\n",
        "import sqlalchemy\n",
        "import psycopg2"
      ]
    },
    {
      "cell_type": "markdown",
      "metadata": {
        "id": "OtWrlhZ8jDRd"
      },
      "source": [
        "# Punto 1"
      ]
    },
    {
      "cell_type": "markdown",
      "metadata": {
        "id": "W-9tBKrPjDRe"
      },
      "source": [
        "## Conectar a la BD - crear tabla"
      ]
    },
    {
      "cell_type": "code",
      "execution_count": null,
      "metadata": {
        "colab": {
          "base_uri": "https://localhost:8080/",
          "height": 383
        },
        "id": "Mxn7GcXVjDRe",
        "outputId": "93bd5307-dd1c-403b-e03e-f67b037185a4"
      },
      "outputs": [
        {
          "output_type": "error",
          "ename": "OperationalError",
          "evalue": "connection to server at \"190.249.20.164\", port 5432 failed: Connection timed out\n\tIs the server running on that host and accepting TCP/IP connections?\n",
          "traceback": [
            "\u001b[0;31m---------------------------------------------------------------------------\u001b[0m",
            "\u001b[0;31mOperationalError\u001b[0m                          Traceback (most recent call last)",
            "\u001b[0;32m<ipython-input-2-f9848b8bf9fc>\u001b[0m in \u001b[0;36m<cell line: 1>\u001b[0;34m()\u001b[0m\n\u001b[0;32m----> 1\u001b[0;31m conn_mysql = psycopg2.connect( database=\"postgres\",\n\u001b[0m\u001b[1;32m      2\u001b[0m                          \u001b[0muser\u001b[0m\u001b[0;34m=\u001b[0m\u001b[0;34m'postgres'\u001b[0m\u001b[0;34m,\u001b[0m\u001b[0;34m\u001b[0m\u001b[0;34m\u001b[0m\u001b[0m\n\u001b[1;32m      3\u001b[0m                          \u001b[0mpassword\u001b[0m\u001b[0;34m=\u001b[0m\u001b[0;34m'postgres'\u001b[0m\u001b[0;34m,\u001b[0m\u001b[0;34m\u001b[0m\u001b[0;34m\u001b[0m\u001b[0m\n\u001b[1;32m      4\u001b[0m                          \u001b[0mhost\u001b[0m\u001b[0;34m=\u001b[0m\u001b[0;34m'190.249.20.164'\u001b[0m\u001b[0;34m,\u001b[0m\u001b[0;34m\u001b[0m\u001b[0;34m\u001b[0m\u001b[0m\n\u001b[1;32m      5\u001b[0m                          port='5432')\n",
            "\u001b[0;32m/usr/local/lib/python3.10/dist-packages/psycopg2/__init__.py\u001b[0m in \u001b[0;36mconnect\u001b[0;34m(dsn, connection_factory, cursor_factory, **kwargs)\u001b[0m\n\u001b[1;32m    120\u001b[0m \u001b[0;34m\u001b[0m\u001b[0m\n\u001b[1;32m    121\u001b[0m     \u001b[0mdsn\u001b[0m \u001b[0;34m=\u001b[0m \u001b[0m_ext\u001b[0m\u001b[0;34m.\u001b[0m\u001b[0mmake_dsn\u001b[0m\u001b[0;34m(\u001b[0m\u001b[0mdsn\u001b[0m\u001b[0;34m,\u001b[0m \u001b[0;34m**\u001b[0m\u001b[0mkwargs\u001b[0m\u001b[0;34m)\u001b[0m\u001b[0;34m\u001b[0m\u001b[0;34m\u001b[0m\u001b[0m\n\u001b[0;32m--> 122\u001b[0;31m     \u001b[0mconn\u001b[0m \u001b[0;34m=\u001b[0m \u001b[0m_connect\u001b[0m\u001b[0;34m(\u001b[0m\u001b[0mdsn\u001b[0m\u001b[0;34m,\u001b[0m \u001b[0mconnection_factory\u001b[0m\u001b[0;34m=\u001b[0m\u001b[0mconnection_factory\u001b[0m\u001b[0;34m,\u001b[0m \u001b[0;34m**\u001b[0m\u001b[0mkwasync\u001b[0m\u001b[0;34m)\u001b[0m\u001b[0;34m\u001b[0m\u001b[0;34m\u001b[0m\u001b[0m\n\u001b[0m\u001b[1;32m    123\u001b[0m     \u001b[0;32mif\u001b[0m \u001b[0mcursor_factory\u001b[0m \u001b[0;32mis\u001b[0m \u001b[0;32mnot\u001b[0m \u001b[0;32mNone\u001b[0m\u001b[0;34m:\u001b[0m\u001b[0;34m\u001b[0m\u001b[0;34m\u001b[0m\u001b[0m\n\u001b[1;32m    124\u001b[0m         \u001b[0mconn\u001b[0m\u001b[0;34m.\u001b[0m\u001b[0mcursor_factory\u001b[0m \u001b[0;34m=\u001b[0m \u001b[0mcursor_factory\u001b[0m\u001b[0;34m\u001b[0m\u001b[0;34m\u001b[0m\u001b[0m\n",
            "\u001b[0;31mOperationalError\u001b[0m: connection to server at \"190.249.20.164\", port 5432 failed: Connection timed out\n\tIs the server running on that host and accepting TCP/IP connections?\n"
          ]
        }
      ],
      "source": [
        "\n",
        "conn_mysql = psycopg2.connect( database=\"postgres\",\n",
        "                         user='postgres',\n",
        "                         password='postgres',\n",
        "                         host='localhost',\n",
        "                         port='5432')\n",
        "# you must create a Cursor object. It will let\n",
        "#  you execute all the queries you need\n",
        "cur = conn_mysql.cursor()\n"
      ]
    },
    {
      "cell_type": "code",
      "execution_count": null,
      "metadata": {
        "id": "vJBqcfHmjDRe",
        "outputId": "81b58b3d-23b6-4a0f-8c88-15c1dbf21a80"
      },
      "outputs": [
        {
          "data": {
            "text/plain": [
              "<connection object at 0x000001BBF5F6DAD0; dsn: 'user=postgres password=xxx dbname=postgres host=localhost port=5432', closed: 0>"
            ]
          },
          "execution_count": 5,
          "metadata": {},
          "output_type": "execute_result"
        }
      ],
      "source": [
        "conn_mysql"
      ]
    },
    {
      "cell_type": "code",
      "execution_count": null,
      "metadata": {
        "id": "-KfphhrmjDRf"
      },
      "outputs": [],
      "source": [
        "\n",
        "# Use all the SQL you like\n",
        "cur.execute(\"\"\"CREATE TABLE TBL_Prueba_MediosPago_Nicolas_Medina (\n",
        "            column1 numeric,\n",
        "            column2 numeric,\n",
        "            column3 numeric,\n",
        "            cliente varchar,\n",
        "            column5 numeric,\n",
        "            fecha numeric,\n",
        "            medio_pago varchar,\n",
        "            ventas float,\n",
        "            column9 varchar)\n",
        "            \"\"\")\n",
        "\n",
        "cur.close()\n",
        "conn_mysql.commit()"
      ]
    },
    {
      "cell_type": "markdown",
      "metadata": {
        "id": "KMm5mTi0jDRg"
      },
      "source": [
        "# Punto 2"
      ]
    },
    {
      "cell_type": "markdown",
      "metadata": {
        "id": "LYu56uk5jDRg"
      },
      "source": [
        "# Funcion para insertar datos de un DF a la tabla"
      ]
    },
    {
      "cell_type": "code",
      "execution_count": null,
      "metadata": {
        "id": "HSFHBXKNjDRg"
      },
      "outputs": [],
      "source": [
        "import pandas as pd\n",
        "import numpy as np\n",
        "import psycopg2\n",
        "import psycopg2.extras as extras\n",
        "import pandas as pd\n",
        "\n",
        "\n",
        "def execute_values(conn, df, table):\n",
        "\n",
        "    tuples = [tuple(x) for x in df.to_numpy()]\n",
        "\n",
        "    cols = ','.join(list(df.columns))\n",
        "    # SQL query to execute\n",
        "    query = \"INSERT INTO %s(%s) VALUES %%s\" % (table, cols)\n",
        "    cursor = conn.cursor()\n",
        "    try:\n",
        "        extras.execute_values(cursor, query, tuples)\n",
        "        conn.commit()\n",
        "    except (Exception, psycopg2.DatabaseError) as error:\n",
        "        print(\"Error: %s\" % error)\n",
        "        conn.rollback()\n",
        "        cursor.close()\n",
        "        return 1\n",
        "    print(\"the dataframe is inserted\")\n",
        "    cursor.close()"
      ]
    },
    {
      "cell_type": "markdown",
      "metadata": {
        "id": "zTaiDVeEjDRg"
      },
      "source": [
        "# leer datos de un TXT y pasarlos a un DF"
      ]
    },
    {
      "cell_type": "code",
      "execution_count": null,
      "metadata": {
        "id": "4gM_nFsrjDRh"
      },
      "outputs": [],
      "source": [
        "df_to_load=pd.read_csv(r\"EPIK_MEDIO_20240110.txt\",sep='|',header=None,encoding='iso-8859-1')"
      ]
    },
    {
      "cell_type": "code",
      "execution_count": null,
      "metadata": {
        "id": "7MDOeI2hjDRh",
        "outputId": "8140a856-bae7-4840-c8f0-b6b41594e8f5"
      },
      "outputs": [
        {
          "data": {
            "text/html": [
              "<div>\n",
              "<style scoped>\n",
              "    .dataframe tbody tr th:only-of-type {\n",
              "        vertical-align: middle;\n",
              "    }\n",
              "\n",
              "    .dataframe tbody tr th {\n",
              "        vertical-align: top;\n",
              "    }\n",
              "\n",
              "    .dataframe thead th {\n",
              "        text-align: right;\n",
              "    }\n",
              "</style>\n",
              "<table border=\"1\" class=\"dataframe\">\n",
              "  <thead>\n",
              "    <tr style=\"text-align: right;\">\n",
              "      <th></th>\n",
              "      <th>0</th>\n",
              "      <th>1</th>\n",
              "      <th>2</th>\n",
              "      <th>3</th>\n",
              "      <th>4</th>\n",
              "      <th>5</th>\n",
              "      <th>6</th>\n",
              "      <th>7</th>\n",
              "      <th>8</th>\n",
              "    </tr>\n",
              "  </thead>\n",
              "  <tbody>\n",
              "    <tr>\n",
              "      <th>0</th>\n",
              "      <td>1001</td>\n",
              "      <td>40294</td>\n",
              "      <td>1001054029412102023</td>\n",
              "      <td>3-121-546</td>\n",
              "      <td>18694</td>\n",
              "      <td>12102023</td>\n",
              "      <td>Visa-Master Otros</td>\n",
              "      <td>14.96</td>\n",
              "      <td>Retail</td>\n",
              "    </tr>\n",
              "    <tr>\n",
              "      <th>1</th>\n",
              "      <td>1001</td>\n",
              "      <td>40295</td>\n",
              "      <td>1001054029512102023</td>\n",
              "      <td>3-90-2473</td>\n",
              "      <td>18694</td>\n",
              "      <td>12102023</td>\n",
              "      <td>Visa-Master Otros</td>\n",
              "      <td>8.86</td>\n",
              "      <td>Retail</td>\n",
              "    </tr>\n",
              "    <tr>\n",
              "      <th>2</th>\n",
              "      <td>1001</td>\n",
              "      <td>40296</td>\n",
              "      <td>1001054029612102023</td>\n",
              "      <td>3-710-478</td>\n",
              "      <td>18694</td>\n",
              "      <td>12102023</td>\n",
              "      <td>Debito-OtroBanco</td>\n",
              "      <td>50.00</td>\n",
              "      <td>Retail</td>\n",
              "    </tr>\n",
              "    <tr>\n",
              "      <th>3</th>\n",
              "      <td>1001</td>\n",
              "      <td>40297</td>\n",
              "      <td>1001054029712102023</td>\n",
              "      <td>3-728-143</td>\n",
              "      <td>18694</td>\n",
              "      <td>12102023</td>\n",
              "      <td>Debito-OtroBanco</td>\n",
              "      <td>184.56</td>\n",
              "      <td>Retail</td>\n",
              "    </tr>\n",
              "    <tr>\n",
              "      <th>4</th>\n",
              "      <td>1001</td>\n",
              "      <td>40301</td>\n",
              "      <td>1001054030112102023</td>\n",
              "      <td>3-710-478</td>\n",
              "      <td>18694</td>\n",
              "      <td>12102023</td>\n",
              "      <td>Debito-OtroBanco</td>\n",
              "      <td>8.59</td>\n",
              "      <td>Retail</td>\n",
              "    </tr>\n",
              "    <tr>\n",
              "      <th>...</th>\n",
              "      <td>...</td>\n",
              "      <td>...</td>\n",
              "      <td>...</td>\n",
              "      <td>...</td>\n",
              "      <td>...</td>\n",
              "      <td>...</td>\n",
              "      <td>...</td>\n",
              "      <td>...</td>\n",
              "      <td>...</td>\n",
              "    </tr>\n",
              "    <tr>\n",
              "      <th>13293</th>\n",
              "      <td>1010</td>\n",
              "      <td>602</td>\n",
              "      <td>1010230060212102023</td>\n",
              "      <td>8-819-2065</td>\n",
              "      <td>995196</td>\n",
              "      <td>12102023</td>\n",
              "      <td>Gift Card</td>\n",
              "      <td>114.42</td>\n",
              "      <td>Retail</td>\n",
              "    </tr>\n",
              "    <tr>\n",
              "      <th>13294</th>\n",
              "      <td>1010</td>\n",
              "      <td>602</td>\n",
              "      <td>1010230060212102023</td>\n",
              "      <td>8-819-2065</td>\n",
              "      <td>995196</td>\n",
              "      <td>12102023</td>\n",
              "      <td>Listo</td>\n",
              "      <td>29.11</td>\n",
              "      <td>Retail</td>\n",
              "    </tr>\n",
              "    <tr>\n",
              "      <th>13295</th>\n",
              "      <td>1010</td>\n",
              "      <td>609</td>\n",
              "      <td>1010230060912102023</td>\n",
              "      <td></td>\n",
              "      <td>995196</td>\n",
              "      <td>12102023</td>\n",
              "      <td>Efectivo</td>\n",
              "      <td>3.19</td>\n",
              "      <td>Retail</td>\n",
              "    </tr>\n",
              "    <tr>\n",
              "      <th>13296</th>\n",
              "      <td>1010</td>\n",
              "      <td>616</td>\n",
              "      <td>1010230061612102023</td>\n",
              "      <td>8-786-468</td>\n",
              "      <td>995196</td>\n",
              "      <td>12102023</td>\n",
              "      <td>Debito-OtroBanco</td>\n",
              "      <td>18.18</td>\n",
              "      <td>Retail</td>\n",
              "    </tr>\n",
              "    <tr>\n",
              "      <th>13297</th>\n",
              "      <td>1010</td>\n",
              "      <td>623</td>\n",
              "      <td>1010230062312102023</td>\n",
              "      <td></td>\n",
              "      <td>995196</td>\n",
              "      <td>12102023</td>\n",
              "      <td>Efectivo</td>\n",
              "      <td>19.73</td>\n",
              "      <td>Retail</td>\n",
              "    </tr>\n",
              "  </tbody>\n",
              "</table>\n",
              "<p>13298 rows × 9 columns</p>\n",
              "</div>"
            ],
            "text/plain": [
              "          0      1                    2           3       4         5  \\\n",
              "0      1001  40294  1001054029412102023   3-121-546   18694  12102023   \n",
              "1      1001  40295  1001054029512102023   3-90-2473   18694  12102023   \n",
              "2      1001  40296  1001054029612102023   3-710-478   18694  12102023   \n",
              "3      1001  40297  1001054029712102023   3-728-143   18694  12102023   \n",
              "4      1001  40301  1001054030112102023   3-710-478   18694  12102023   \n",
              "...     ...    ...                  ...         ...     ...       ...   \n",
              "13293  1010    602  1010230060212102023  8-819-2065  995196  12102023   \n",
              "13294  1010    602  1010230060212102023  8-819-2065  995196  12102023   \n",
              "13295  1010    609  1010230060912102023              995196  12102023   \n",
              "13296  1010    616  1010230061612102023   8-786-468  995196  12102023   \n",
              "13297  1010    623  1010230062312102023              995196  12102023   \n",
              "\n",
              "                       6       7       8  \n",
              "0      Visa-Master Otros   14.96  Retail  \n",
              "1      Visa-Master Otros    8.86  Retail  \n",
              "2       Debito-OtroBanco   50.00  Retail  \n",
              "3       Debito-OtroBanco  184.56  Retail  \n",
              "4       Debito-OtroBanco    8.59  Retail  \n",
              "...                  ...     ...     ...  \n",
              "13293          Gift Card  114.42  Retail  \n",
              "13294              Listo   29.11  Retail  \n",
              "13295           Efectivo    3.19  Retail  \n",
              "13296   Debito-OtroBanco   18.18  Retail  \n",
              "13297           Efectivo   19.73  Retail  \n",
              "\n",
              "[13298 rows x 9 columns]"
            ]
          },
          "execution_count": 31,
          "metadata": {},
          "output_type": "execute_result"
        }
      ],
      "source": [
        "df_to_load"
      ]
    },
    {
      "cell_type": "code",
      "execution_count": null,
      "metadata": {
        "id": "Me3SKzvCjDRh"
      },
      "outputs": [],
      "source": [
        "df_to_load.columns=['column1','column2','column3',\n",
        "            'cliente' ,\n",
        "            'column5' ,\n",
        "            'fecha' ,\n",
        "            'medio_pago' ,\n",
        "            'ventas' ,\n",
        "            'column9' ]"
      ]
    },
    {
      "cell_type": "code",
      "execution_count": null,
      "metadata": {
        "id": "zheDugJ2jDRh",
        "outputId": "69b4b768-5936-41fa-82bc-6a0474506b02"
      },
      "outputs": [
        {
          "data": {
            "text/html": [
              "<div>\n",
              "<style scoped>\n",
              "    .dataframe tbody tr th:only-of-type {\n",
              "        vertical-align: middle;\n",
              "    }\n",
              "\n",
              "    .dataframe tbody tr th {\n",
              "        vertical-align: top;\n",
              "    }\n",
              "\n",
              "    .dataframe thead th {\n",
              "        text-align: right;\n",
              "    }\n",
              "</style>\n",
              "<table border=\"1\" class=\"dataframe\">\n",
              "  <thead>\n",
              "    <tr style=\"text-align: right;\">\n",
              "      <th></th>\n",
              "      <th>column1</th>\n",
              "      <th>column2</th>\n",
              "      <th>column3</th>\n",
              "      <th>cliente</th>\n",
              "      <th>column5</th>\n",
              "      <th>fecha</th>\n",
              "      <th>medio_pago</th>\n",
              "      <th>ventas</th>\n",
              "      <th>column9</th>\n",
              "    </tr>\n",
              "  </thead>\n",
              "  <tbody>\n",
              "    <tr>\n",
              "      <th>0</th>\n",
              "      <td>1001</td>\n",
              "      <td>40294</td>\n",
              "      <td>1001054029412102023</td>\n",
              "      <td>3-121-546</td>\n",
              "      <td>18694</td>\n",
              "      <td>12102023</td>\n",
              "      <td>Visa-Master Otros</td>\n",
              "      <td>14.96</td>\n",
              "      <td>Retail</td>\n",
              "    </tr>\n",
              "    <tr>\n",
              "      <th>1</th>\n",
              "      <td>1001</td>\n",
              "      <td>40295</td>\n",
              "      <td>1001054029512102023</td>\n",
              "      <td>3-90-2473</td>\n",
              "      <td>18694</td>\n",
              "      <td>12102023</td>\n",
              "      <td>Visa-Master Otros</td>\n",
              "      <td>8.86</td>\n",
              "      <td>Retail</td>\n",
              "    </tr>\n",
              "    <tr>\n",
              "      <th>2</th>\n",
              "      <td>1001</td>\n",
              "      <td>40296</td>\n",
              "      <td>1001054029612102023</td>\n",
              "      <td>3-710-478</td>\n",
              "      <td>18694</td>\n",
              "      <td>12102023</td>\n",
              "      <td>Debito-OtroBanco</td>\n",
              "      <td>50.00</td>\n",
              "      <td>Retail</td>\n",
              "    </tr>\n",
              "    <tr>\n",
              "      <th>3</th>\n",
              "      <td>1001</td>\n",
              "      <td>40297</td>\n",
              "      <td>1001054029712102023</td>\n",
              "      <td>3-728-143</td>\n",
              "      <td>18694</td>\n",
              "      <td>12102023</td>\n",
              "      <td>Debito-OtroBanco</td>\n",
              "      <td>184.56</td>\n",
              "      <td>Retail</td>\n",
              "    </tr>\n",
              "    <tr>\n",
              "      <th>4</th>\n",
              "      <td>1001</td>\n",
              "      <td>40301</td>\n",
              "      <td>1001054030112102023</td>\n",
              "      <td>3-710-478</td>\n",
              "      <td>18694</td>\n",
              "      <td>12102023</td>\n",
              "      <td>Debito-OtroBanco</td>\n",
              "      <td>8.59</td>\n",
              "      <td>Retail</td>\n",
              "    </tr>\n",
              "    <tr>\n",
              "      <th>...</th>\n",
              "      <td>...</td>\n",
              "      <td>...</td>\n",
              "      <td>...</td>\n",
              "      <td>...</td>\n",
              "      <td>...</td>\n",
              "      <td>...</td>\n",
              "      <td>...</td>\n",
              "      <td>...</td>\n",
              "      <td>...</td>\n",
              "    </tr>\n",
              "    <tr>\n",
              "      <th>13293</th>\n",
              "      <td>1010</td>\n",
              "      <td>602</td>\n",
              "      <td>1010230060212102023</td>\n",
              "      <td>8-819-2065</td>\n",
              "      <td>995196</td>\n",
              "      <td>12102023</td>\n",
              "      <td>Gift Card</td>\n",
              "      <td>114.42</td>\n",
              "      <td>Retail</td>\n",
              "    </tr>\n",
              "    <tr>\n",
              "      <th>13294</th>\n",
              "      <td>1010</td>\n",
              "      <td>602</td>\n",
              "      <td>1010230060212102023</td>\n",
              "      <td>8-819-2065</td>\n",
              "      <td>995196</td>\n",
              "      <td>12102023</td>\n",
              "      <td>Listo</td>\n",
              "      <td>29.11</td>\n",
              "      <td>Retail</td>\n",
              "    </tr>\n",
              "    <tr>\n",
              "      <th>13295</th>\n",
              "      <td>1010</td>\n",
              "      <td>609</td>\n",
              "      <td>1010230060912102023</td>\n",
              "      <td></td>\n",
              "      <td>995196</td>\n",
              "      <td>12102023</td>\n",
              "      <td>Efectivo</td>\n",
              "      <td>3.19</td>\n",
              "      <td>Retail</td>\n",
              "    </tr>\n",
              "    <tr>\n",
              "      <th>13296</th>\n",
              "      <td>1010</td>\n",
              "      <td>616</td>\n",
              "      <td>1010230061612102023</td>\n",
              "      <td>8-786-468</td>\n",
              "      <td>995196</td>\n",
              "      <td>12102023</td>\n",
              "      <td>Debito-OtroBanco</td>\n",
              "      <td>18.18</td>\n",
              "      <td>Retail</td>\n",
              "    </tr>\n",
              "    <tr>\n",
              "      <th>13297</th>\n",
              "      <td>1010</td>\n",
              "      <td>623</td>\n",
              "      <td>1010230062312102023</td>\n",
              "      <td></td>\n",
              "      <td>995196</td>\n",
              "      <td>12102023</td>\n",
              "      <td>Efectivo</td>\n",
              "      <td>19.73</td>\n",
              "      <td>Retail</td>\n",
              "    </tr>\n",
              "  </tbody>\n",
              "</table>\n",
              "<p>13298 rows × 9 columns</p>\n",
              "</div>"
            ],
            "text/plain": [
              "       column1  column2              column3     cliente  column5     fecha  \\\n",
              "0         1001    40294  1001054029412102023   3-121-546    18694  12102023   \n",
              "1         1001    40295  1001054029512102023   3-90-2473    18694  12102023   \n",
              "2         1001    40296  1001054029612102023   3-710-478    18694  12102023   \n",
              "3         1001    40297  1001054029712102023   3-728-143    18694  12102023   \n",
              "4         1001    40301  1001054030112102023   3-710-478    18694  12102023   \n",
              "...        ...      ...                  ...         ...      ...       ...   \n",
              "13293     1010      602  1010230060212102023  8-819-2065   995196  12102023   \n",
              "13294     1010      602  1010230060212102023  8-819-2065   995196  12102023   \n",
              "13295     1010      609  1010230060912102023               995196  12102023   \n",
              "13296     1010      616  1010230061612102023   8-786-468   995196  12102023   \n",
              "13297     1010      623  1010230062312102023               995196  12102023   \n",
              "\n",
              "              medio_pago  ventas column9  \n",
              "0      Visa-Master Otros   14.96  Retail  \n",
              "1      Visa-Master Otros    8.86  Retail  \n",
              "2       Debito-OtroBanco   50.00  Retail  \n",
              "3       Debito-OtroBanco  184.56  Retail  \n",
              "4       Debito-OtroBanco    8.59  Retail  \n",
              "...                  ...     ...     ...  \n",
              "13293          Gift Card  114.42  Retail  \n",
              "13294              Listo   29.11  Retail  \n",
              "13295           Efectivo    3.19  Retail  \n",
              "13296   Debito-OtroBanco   18.18  Retail  \n",
              "13297           Efectivo   19.73  Retail  \n",
              "\n",
              "[13298 rows x 9 columns]"
            ]
          },
          "execution_count": 33,
          "metadata": {},
          "output_type": "execute_result"
        }
      ],
      "source": [
        "df_to_load"
      ]
    },
    {
      "cell_type": "markdown",
      "metadata": {
        "id": "UBcZL8FLjDRi"
      },
      "source": [
        "# Cargar datos usando la funcion"
      ]
    },
    {
      "cell_type": "code",
      "execution_count": null,
      "metadata": {
        "id": "GnBsvl4gjDRi",
        "outputId": "a72ebf3b-2350-4b9f-c570-e30446762526"
      },
      "outputs": [
        {
          "name": "stdout",
          "output_type": "stream",
          "text": [
            "the dataframe is inserted\n"
          ]
        }
      ],
      "source": [
        "execute_values(conn_mysql, df_to_load, \"TBL_Prueba_MediosPago_Nicolas_Medina\")"
      ]
    },
    {
      "cell_type": "markdown",
      "metadata": {
        "id": "E-vo6mrPjDRi"
      },
      "source": [
        "# Punto 3 - crear vista\n",
        "(parecido a un SD lo automatizaria con python o datafactory)"
      ]
    },
    {
      "cell_type": "code",
      "execution_count": null,
      "metadata": {
        "id": "8gWyWf2fjDRi"
      },
      "outputs": [],
      "source": [
        "cur = conn_mysql.cursor()\n",
        "cur.execute(\"\"\"\n",
        "            CREATE VIEW view1 AS (\n",
        "            select cliente,fecha,medio_pago,sum(ventas)\n",
        "            from TBL_Prueba_MediosPago_Nicolas_Medina\n",
        "            group by cliente,fecha,medio_pago)\n",
        "\n",
        "            \"\"\")\n",
        "cur.close()\n",
        "conn_mysql.commit()"
      ]
    },
    {
      "cell_type": "markdown",
      "metadata": {
        "id": "TTcEeppHjDRi"
      },
      "source": [
        "# Punto 4 - Crear Vista"
      ]
    },
    {
      "cell_type": "code",
      "execution_count": null,
      "metadata": {
        "id": "VLLUyHw9jDRj"
      },
      "outputs": [],
      "source": [
        "conn_mysql.rollback()\n"
      ]
    },
    {
      "cell_type": "code",
      "execution_count": null,
      "metadata": {
        "id": "Foz3TsHEjDRj"
      },
      "outputs": [],
      "source": [
        "cur = conn_mysql.cursor()\n",
        "cur.execute(\"\"\"\n",
        "            CREATE VIEW VW_Prueba_Vacios_NicolasMedinaCaraballo AS (\n",
        "            select fecha,count(cliente)\n",
        "            from TBL_Prueba_MediosPago_Nicolas_Medina\n",
        "            where cliente =' '\n",
        "            group by fecha)\n",
        "            \"\"\")\n",
        "cur.close()\n",
        "conn_mysql.commit()"
      ]
    },
    {
      "cell_type": "markdown",
      "metadata": {
        "id": "ZwTKRJlBjDRj"
      },
      "source": [
        "# Punto 5 - Crear Vista"
      ]
    },
    {
      "cell_type": "code",
      "execution_count": null,
      "metadata": {
        "id": "LMoxvBScjDRj"
      },
      "outputs": [],
      "source": [
        "cur = conn_mysql.cursor()\n",
        "cur.execute(\"\"\"\n",
        "            CREATE VIEW VW_Prueba_ResumenVentas_NicolasMedina AS (\n",
        "            select fecha,sum(ventas)\n",
        "            from\n",
        "            TBL_Prueba_MediosPago_Nicolas_Medina\n",
        "            group by fecha)\n",
        "            \"\"\")\n",
        "cur.close()\n",
        "conn_mysql.commit()"
      ]
    },
    {
      "cell_type": "markdown",
      "metadata": {
        "id": "TflZ-RwTjDRj"
      },
      "source": [
        "# Punto 6 - cargar un query a un DF y pasarlo a un txt"
      ]
    },
    {
      "cell_type": "code",
      "execution_count": null,
      "metadata": {
        "id": "DAYLJPuMjDRj",
        "outputId": "50791298-10d4-4464-ba9c-bb7e6fae80ae"
      },
      "outputs": [
        {
          "name": "stderr",
          "output_type": "stream",
          "text": [
            "C:\\Users\\nicki\\AppData\\Local\\Temp\\ipykernel_12040\\2728333470.py:1: UserWarning: pandas only supports SQLAlchemy connectable (engine/connection) or database string URI or sqlite3 DBAPI2 connection. Other DBAPI2 objects are not tested. Please consider using SQLAlchemy.\n",
            "  df_to_extract=pd.read_sql('select * from TBL_Prueba_MediosPago_Nicolas_Medina', conn_mysql)\n"
          ]
        }
      ],
      "source": [
        "df_to_extract=pd.read_sql('select * from TBL_Prueba_MediosPago_Nicolas_Medina', conn_mysql)\n",
        "\n",
        "df_to_extract.to_csv(\"ResumenClientes_Nicolas_Medina_Caraballo.txt\",sep=';')"
      ]
    },
    {
      "cell_type": "markdown",
      "metadata": {
        "id": "_Msi9JEbjDRk"
      },
      "source": [
        "# Punto 7 - Usando pivot de pandas"
      ]
    },
    {
      "cell_type": "code",
      "execution_count": null,
      "metadata": {
        "id": "kTk9hzkXjDRk",
        "outputId": "cefb79ed-c4c0-44bf-e29f-40f0f5d33860"
      },
      "outputs": [
        {
          "name": "stderr",
          "output_type": "stream",
          "text": [
            "C:\\Users\\nicki\\AppData\\Local\\Temp\\ipykernel_12040\\3850399425.py:1: UserWarning: pandas only supports SQLAlchemy connectable (engine/connection) or database string URI or sqlite3 DBAPI2 connection. Other DBAPI2 objects are not tested. Please consider using SQLAlchemy.\n",
            "  df_to_extract=pd.read_sql('select * from TBL_Prueba_MediosPago_Nicolas_Medina', conn_mysql)\n"
          ]
        },
        {
          "data": {
            "text/html": [
              "<div>\n",
              "<style scoped>\n",
              "    .dataframe tbody tr th:only-of-type {\n",
              "        vertical-align: middle;\n",
              "    }\n",
              "\n",
              "    .dataframe tbody tr th {\n",
              "        vertical-align: top;\n",
              "    }\n",
              "\n",
              "    .dataframe thead th {\n",
              "        text-align: right;\n",
              "    }\n",
              "</style>\n",
              "<table border=\"1\" class=\"dataframe\">\n",
              "  <thead>\n",
              "    <tr style=\"text-align: right;\">\n",
              "      <th>medio_pago</th>\n",
              "      <th>AHC / Yappy</th>\n",
              "      <th>American Express</th>\n",
              "      <th>Cheque</th>\n",
              "      <th>Club Mercancia</th>\n",
              "      <th>Credit Note Issue</th>\n",
              "      <th>Credit Note Redeem</th>\n",
              "      <th>Debito-OtroBanco</th>\n",
              "      <th>DébitoBac</th>\n",
              "      <th>DébitoBanistmo</th>\n",
              "      <th>Efectivo</th>\n",
              "      <th>...</th>\n",
              "      <th>Listo</th>\n",
              "      <th>NaN</th>\n",
              "      <th>TDC eCommerce</th>\n",
              "      <th>TitanCredit</th>\n",
              "      <th>Vale General Cupon</th>\n",
              "      <th>ValePanama</th>\n",
              "      <th>ValePanama Cupon</th>\n",
              "      <th>Venta Especial</th>\n",
              "      <th>Visa-Master Bac</th>\n",
              "      <th>Visa-Master Otros</th>\n",
              "    </tr>\n",
              "    <tr>\n",
              "      <th>fecha</th>\n",
              "      <th></th>\n",
              "      <th></th>\n",
              "      <th></th>\n",
              "      <th></th>\n",
              "      <th></th>\n",
              "      <th></th>\n",
              "      <th></th>\n",
              "      <th></th>\n",
              "      <th></th>\n",
              "      <th></th>\n",
              "      <th></th>\n",
              "      <th></th>\n",
              "      <th></th>\n",
              "      <th></th>\n",
              "      <th></th>\n",
              "      <th></th>\n",
              "      <th></th>\n",
              "      <th></th>\n",
              "      <th></th>\n",
              "      <th></th>\n",
              "      <th></th>\n",
              "    </tr>\n",
              "  </thead>\n",
              "  <tbody>\n",
              "    <tr>\n",
              "      <th>12102023.0</th>\n",
              "      <td>235.9</td>\n",
              "      <td>137.93</td>\n",
              "      <td>1765.27</td>\n",
              "      <td>1843.17</td>\n",
              "      <td>-1998.94</td>\n",
              "      <td>2054.51</td>\n",
              "      <td>41105.33</td>\n",
              "      <td>7439.96</td>\n",
              "      <td>73.78</td>\n",
              "      <td>128904.64</td>\n",
              "      <td>...</td>\n",
              "      <td>2288.9</td>\n",
              "      <td>10.0</td>\n",
              "      <td>2628.25</td>\n",
              "      <td>31505.92</td>\n",
              "      <td>9.84</td>\n",
              "      <td>1108.38</td>\n",
              "      <td>142.48</td>\n",
              "      <td>0.0</td>\n",
              "      <td>7600.69</td>\n",
              "      <td>37716.43</td>\n",
              "    </tr>\n",
              "  </tbody>\n",
              "</table>\n",
              "<p>1 rows × 21 columns</p>\n",
              "</div>"
            ],
            "text/plain": [
              "medio_pago  AHC / Yappy  American Express   Cheque  Club Mercancia  \\\n",
              "fecha                                                                \n",
              "12102023.0        235.9            137.93  1765.27         1843.17   \n",
              "\n",
              "medio_pago  Credit Note Issue  Credit Note Redeem  Debito-OtroBanco  \\\n",
              "fecha                                                                 \n",
              "12102023.0           -1998.94             2054.51          41105.33   \n",
              "\n",
              "medio_pago  DébitoBac  DébitoBanistmo   Efectivo  ...   Listo   NaN  \\\n",
              "fecha                                             ...                 \n",
              "12102023.0    7439.96           73.78  128904.64  ...  2288.9  10.0   \n",
              "\n",
              "medio_pago  TDC eCommerce  TitanCredit  Vale General Cupon  ValePanama  \\\n",
              "fecha                                                                    \n",
              "12102023.0        2628.25     31505.92                9.84     1108.38   \n",
              "\n",
              "medio_pago  ValePanama Cupon  Venta Especial  Visa-Master Bac  \\\n",
              "fecha                                                           \n",
              "12102023.0            142.48             0.0          7600.69   \n",
              "\n",
              "medio_pago  Visa-Master Otros  \n",
              "fecha                          \n",
              "12102023.0           37716.43  \n",
              "\n",
              "[1 rows x 21 columns]"
            ]
          },
          "execution_count": 57,
          "metadata": {},
          "output_type": "execute_result"
        }
      ],
      "source": [
        "df_to_extract=pd.read_sql('select * from TBL_Prueba_MediosPago_Nicolas_Medina', conn_mysql)\n",
        "\n",
        "df_to_extract.pivot_table(index='fecha',columns='medio_pago',values='ventas',aggfunc='sum').to_excel(\"ResumenVentas_NicolasMedina.xlsx\")\n",
        "\n"
      ]
    },
    {
      "cell_type": "code",
      "execution_count": null,
      "metadata": {
        "id": "kJVKo0oOjDRk",
        "outputId": "dc905635-09bf-4c91-d6a9-d9eefa5b511d"
      },
      "outputs": [
        {
          "data": {
            "text/html": [
              "<div>\n",
              "<style scoped>\n",
              "    .dataframe tbody tr th:only-of-type {\n",
              "        vertical-align: middle;\n",
              "    }\n",
              "\n",
              "    .dataframe tbody tr th {\n",
              "        vertical-align: top;\n",
              "    }\n",
              "\n",
              "    .dataframe thead th {\n",
              "        text-align: right;\n",
              "    }\n",
              "</style>\n",
              "<table border=\"1\" class=\"dataframe\">\n",
              "  <thead>\n",
              "    <tr style=\"text-align: right;\">\n",
              "      <th>medio_pago</th>\n",
              "      <th>AHC / Yappy</th>\n",
              "      <th>American Express</th>\n",
              "      <th>Cheque</th>\n",
              "      <th>Club Mercancia</th>\n",
              "      <th>Credit Note Issue</th>\n",
              "      <th>Credit Note Redeem</th>\n",
              "      <th>Debito-OtroBanco</th>\n",
              "      <th>DébitoBac</th>\n",
              "      <th>DébitoBanistmo</th>\n",
              "      <th>Efectivo</th>\n",
              "      <th>...</th>\n",
              "      <th>Listo</th>\n",
              "      <th>NaN</th>\n",
              "      <th>TDC eCommerce</th>\n",
              "      <th>TitanCredit</th>\n",
              "      <th>Vale General Cupon</th>\n",
              "      <th>ValePanama</th>\n",
              "      <th>ValePanama Cupon</th>\n",
              "      <th>Venta Especial</th>\n",
              "      <th>Visa-Master Bac</th>\n",
              "      <th>Visa-Master Otros</th>\n",
              "    </tr>\n",
              "    <tr>\n",
              "      <th>fecha</th>\n",
              "      <th></th>\n",
              "      <th></th>\n",
              "      <th></th>\n",
              "      <th></th>\n",
              "      <th></th>\n",
              "      <th></th>\n",
              "      <th></th>\n",
              "      <th></th>\n",
              "      <th></th>\n",
              "      <th></th>\n",
              "      <th></th>\n",
              "      <th></th>\n",
              "      <th></th>\n",
              "      <th></th>\n",
              "      <th></th>\n",
              "      <th></th>\n",
              "      <th></th>\n",
              "      <th></th>\n",
              "      <th></th>\n",
              "      <th></th>\n",
              "      <th></th>\n",
              "    </tr>\n",
              "  </thead>\n",
              "  <tbody>\n",
              "    <tr>\n",
              "      <th>12102023.0</th>\n",
              "      <td>235.9</td>\n",
              "      <td>137.93</td>\n",
              "      <td>1765.27</td>\n",
              "      <td>1843.17</td>\n",
              "      <td>-1998.94</td>\n",
              "      <td>2054.51</td>\n",
              "      <td>41105.33</td>\n",
              "      <td>7439.96</td>\n",
              "      <td>73.78</td>\n",
              "      <td>128904.64</td>\n",
              "      <td>...</td>\n",
              "      <td>2288.9</td>\n",
              "      <td>10.0</td>\n",
              "      <td>2628.25</td>\n",
              "      <td>31505.92</td>\n",
              "      <td>9.84</td>\n",
              "      <td>1108.38</td>\n",
              "      <td>142.48</td>\n",
              "      <td>0.0</td>\n",
              "      <td>7600.69</td>\n",
              "      <td>37716.43</td>\n",
              "    </tr>\n",
              "  </tbody>\n",
              "</table>\n",
              "<p>1 rows × 21 columns</p>\n",
              "</div>"
            ],
            "text/plain": [
              "medio_pago  AHC / Yappy  American Express   Cheque  Club Mercancia  \\\n",
              "fecha                                                                \n",
              "12102023.0        235.9            137.93  1765.27         1843.17   \n",
              "\n",
              "medio_pago  Credit Note Issue  Credit Note Redeem  Debito-OtroBanco  \\\n",
              "fecha                                                                 \n",
              "12102023.0           -1998.94             2054.51          41105.33   \n",
              "\n",
              "medio_pago  DébitoBac  DébitoBanistmo   Efectivo  ...   Listo   NaN  \\\n",
              "fecha                                             ...                 \n",
              "12102023.0    7439.96           73.78  128904.64  ...  2288.9  10.0   \n",
              "\n",
              "medio_pago  TDC eCommerce  TitanCredit  Vale General Cupon  ValePanama  \\\n",
              "fecha                                                                    \n",
              "12102023.0        2628.25     31505.92                9.84     1108.38   \n",
              "\n",
              "medio_pago  ValePanama Cupon  Venta Especial  Visa-Master Bac  \\\n",
              "fecha                                                           \n",
              "12102023.0            142.48             0.0          7600.69   \n",
              "\n",
              "medio_pago  Visa-Master Otros  \n",
              "fecha                          \n",
              "12102023.0           37716.43  \n",
              "\n",
              "[1 rows x 21 columns]"
            ]
          },
          "execution_count": 59,
          "metadata": {},
          "output_type": "execute_result"
        }
      ],
      "source": [
        "pd.pivot_table(df_to_extract,index='fecha',columns='medio_pago',values='ventas',aggfunc='sum')"
      ]
    },
    {
      "cell_type": "code",
      "execution_count": null,
      "metadata": {
        "id": "2tephK2kjDRk"
      },
      "outputs": [],
      "source": []
    }
  ],
  "metadata": {
    "kernelspec": {
      "display_name": "Python 3",
      "language": "python",
      "name": "python3"
    },
    "language_info": {
      "codemirror_mode": {
        "name": "ipython",
        "version": 3
      },
      "file_extension": ".py",
      "mimetype": "text/x-python",
      "name": "python",
      "nbconvert_exporter": "python",
      "pygments_lexer": "ipython3",
      "version": "3.11.5"
    },
    "colab": {
      "provenance": []
    }
  },
  "nbformat": 4,
  "nbformat_minor": 0
}